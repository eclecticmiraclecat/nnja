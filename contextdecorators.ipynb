{
 "cells": [
  {
   "cell_type": "markdown",
   "metadata": {},
   "source": [
    "## ContextManagers + Decorators"
   ]
  },
  {
   "cell_type": "code",
   "execution_count": 7,
   "metadata": {},
   "outputs": [],
   "source": [
    "class FeatureFlags:\n",
    "    SHOW_BETA = 'Show Beta version of Home Page'\n",
    "    \n",
    "    flags = {\n",
    "        SHOW_BETA: True\n",
    "    }\n",
    "    \n",
    "    @classmethod\n",
    "    def is_on(cls, name):\n",
    "        return cls.flags[name]\n",
    "    \n",
    "    @classmethod\n",
    "    def toggle(cls, name, value):\n",
    "        cls.flags[name] = value"
   ]
  },
  {
   "cell_type": "code",
   "execution_count": 8,
   "metadata": {},
   "outputs": [],
   "source": [
    "feature_flags = FeatureFlags()"
   ]
  },
  {
   "cell_type": "code",
   "execution_count": 9,
   "metadata": {},
   "outputs": [],
   "source": [
    "from contextlib import contextmanager\n",
    "\n",
    "@contextmanager\n",
    "def feature_flag(name, on=True):\n",
    "    old_value = feature_flags.is_on(name)\n",
    "    \n",
    "    # behavior of __enter__()\n",
    "    feature_flags.toggle(name, on)\n",
    "    \n",
    "    yield\n",
    "    \n",
    "    # behaviot of __exit__()\n",
    "    feature_flags.toggle(name, old_value)"
   ]
  },
  {
   "cell_type": "code",
   "execution_count": 29,
   "metadata": {},
   "outputs": [
    {
     "name": "stdout",
     "output_type": "stream",
     "text": [
      "/beta\n"
     ]
    }
   ],
   "source": [
    "def get_homepage_url():\n",
    "    if feature_flags.is_on(FeatureFlags.SHOW_BETA):\n",
    "        return '/beta'\n",
    "    else:\n",
    "        return '/homepage'\n",
    "\n",
    "with feature_flag(FeatureFlags.SHOW_BETA):\n",
    "    print(get_homepage_url())"
   ]
  },
  {
   "cell_type": "code",
   "execution_count": 30,
   "metadata": {},
   "outputs": [
    {
     "name": "stdout",
     "output_type": "stream",
     "text": [
      "/homepage\n"
     ]
    }
   ],
   "source": [
    "with feature_flag(FeatureFlags.SHOW_BETA, on=False):\n",
    "    print(get_homepage_url())"
   ]
  },
  {
   "cell_type": "code",
   "execution_count": 28,
   "metadata": {},
   "outputs": [],
   "source": [
    "# or"
   ]
  },
  {
   "cell_type": "code",
   "execution_count": 31,
   "metadata": {},
   "outputs": [],
   "source": [
    "@feature_flag(FeatureFlags.SHOW_BETA)\n",
    "def get_homepage_url():\n",
    "    if feature_flags.is_on(FeatureFlags.SHOW_BETA):\n",
    "        return '/beta'\n",
    "    else:\n",
    "        return '/homepage'   "
   ]
  },
  {
   "cell_type": "code",
   "execution_count": 32,
   "metadata": {},
   "outputs": [
    {
     "data": {
      "text/plain": [
       "'/beta'"
      ]
     },
     "execution_count": 32,
     "metadata": {},
     "output_type": "execute_result"
    }
   ],
   "source": [
    "get_homepage_url()"
   ]
  },
  {
   "cell_type": "code",
   "execution_count": 33,
   "metadata": {},
   "outputs": [],
   "source": [
    "@feature_flag(FeatureFlags.SHOW_BETA, on=False)\n",
    "def get_homepage_url():\n",
    "    if feature_flags.is_on(FeatureFlags.SHOW_BETA):\n",
    "        return '/beta'\n",
    "    else:\n",
    "        return '/homepage'   "
   ]
  },
  {
   "cell_type": "code",
   "execution_count": 34,
   "metadata": {},
   "outputs": [
    {
     "data": {
      "text/plain": [
       "'/homepage'"
      ]
     },
     "execution_count": 34,
     "metadata": {},
     "output_type": "execute_result"
    }
   ],
   "source": [
    "get_homepage_url()"
   ]
  },
  {
   "cell_type": "code",
   "execution_count": null,
   "metadata": {},
   "outputs": [],
   "source": []
  }
 ],
 "metadata": {
  "kernelspec": {
   "display_name": "Python 3",
   "language": "python",
   "name": "python3"
  },
  "language_info": {
   "codemirror_mode": {
    "name": "ipython",
    "version": 3
   },
   "file_extension": ".py",
   "mimetype": "text/x-python",
   "name": "python",
   "nbconvert_exporter": "python",
   "pygments_lexer": "ipython3",
   "version": "3.7.4"
  }
 },
 "nbformat": 4,
 "nbformat_minor": 2
}
