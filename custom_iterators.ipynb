{
 "cells": [
  {
   "cell_type": "markdown",
   "metadata": {},
   "source": [
    "## making classes iterable\n",
    "- `__iter__`\n",
    "- `__next__`"
   ]
  },
  {
   "cell_type": "code",
   "execution_count": 1,
   "metadata": {},
   "outputs": [],
   "source": [
    "class IterableServer:\n",
    "    \n",
    "    services = [\n",
    "        {'active': False, 'protocol': 'ftp', 'port': 21},\n",
    "        {'active': True, 'protocol': 'ssh', 'port': 22},\n",
    "        {'active': True, 'protocol': 'http', 'port': 80},     \n",
    "    ]\n",
    "    \n",
    "    def __init__(self):\n",
    "        self.current_pos = 0\n",
    "    def __iter__(self):\n",
    "        return self\n",
    "    def __next__(self):\n",
    "        while self.current_pos < len(self.services):\n",
    "            service = self.services[self.current_pos]\n",
    "            self.current_pos += 1\n",
    "            return service['protocol'], service['port']\n",
    "        raise StopIteration"
   ]
  },
  {
   "cell_type": "code",
   "execution_count": 2,
   "metadata": {},
   "outputs": [
    {
     "name": "stdout",
     "output_type": "stream",
     "text": [
      "service ftp on port 21\n",
      "service ssh on port 22\n",
      "service http on port 80\n"
     ]
    }
   ],
   "source": [
    "for protocol, port in IterableServer():\n",
    "    print(f'service {protocol} on port {port}')"
   ]
  },
  {
   "cell_type": "markdown",
   "metadata": {},
   "source": [
    "## with generator"
   ]
  },
  {
   "cell_type": "code",
   "execution_count": 5,
   "metadata": {},
   "outputs": [],
   "source": [
    "class IterableServer:\n",
    "    \n",
    "    services = [\n",
    "        {'active': False, 'protocol': 'ftp', 'port': 21},\n",
    "        {'active': True, 'protocol': 'ssh', 'port': 22},\n",
    "        {'active': True, 'protocol': 'http', 'port': 80},     \n",
    "    ]\n",
    "    \n",
    "    def __iter__(self):\n",
    "        for service in self.services:\n",
    "            yield service['protocol'], service['port']"
   ]
  },
  {
   "cell_type": "code",
   "execution_count": 6,
   "metadata": {},
   "outputs": [
    {
     "name": "stdout",
     "output_type": "stream",
     "text": [
      "service ftp on port 21\n",
      "service ssh on port 22\n",
      "service http on port 80\n"
     ]
    }
   ],
   "source": [
    "for protocol, port in IterableServer():\n",
    "    print(f'service {protocol} on port {port}')"
   ]
  },
  {
   "cell_type": "code",
   "execution_count": null,
   "metadata": {},
   "outputs": [],
   "source": []
  }
 ],
 "metadata": {
  "kernelspec": {
   "display_name": "Python 3",
   "language": "python",
   "name": "python3"
  },
  "language_info": {
   "codemirror_mode": {
    "name": "ipython",
    "version": 3
   },
   "file_extension": ".py",
   "mimetype": "text/x-python",
   "name": "python",
   "nbconvert_exporter": "python",
   "pygments_lexer": "ipython3",
   "version": "3.7.4"
  }
 },
 "nbformat": 4,
 "nbformat_minor": 2
}
