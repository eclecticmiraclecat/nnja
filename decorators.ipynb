{
 "cells": [
  {
   "cell_type": "markdown",
   "metadata": {},
   "source": [
    "- wrap a function in another function\n",
    "- do something\n",
    "    1. before the call\n",
    "    2. after the call\n",
    "    3. with provided arguments\n",
    "    4. modify the return value or arguments"
   ]
  },
  {
   "cell_type": "code",
   "execution_count": 1,
   "metadata": {},
   "outputs": [],
   "source": [
    "class User:\n",
    "    is_authenticated = False\n",
    "    \n",
    "    def __init__(self, name):\n",
    "        self.name = name\n",
    "        \n",
    "def display_profile_page(user):\n",
    "    if not user.is_authenticated:\n",
    "        print('must login')\n",
    "        \n",
    "    print('Profile:', user.name)"
   ]
  },
  {
   "cell_type": "code",
   "execution_count": 3,
   "metadata": {},
   "outputs": [
    {
     "name": "stdout",
     "output_type": "stream",
     "text": [
      "must login\n",
      "Profile: nina\n"
     ]
    }
   ],
   "source": [
    "user = User('nina')\n",
    "display_profile_page(user)"
   ]
  },
  {
   "cell_type": "code",
   "execution_count": 4,
   "metadata": {},
   "outputs": [],
   "source": [
    "class User:\n",
    "    is_authenticated = False\n",
    "    \n",
    "    def __init__(self, name):\n",
    "        self.name = name\n",
    "        \n",
    "def enforce_authentication(func):\n",
    "    def wrapper(user):\n",
    "        if not user.is_authenticated:\n",
    "            print('must login')\n",
    "        return func(user)\n",
    "    return wrapper\n",
    "\n",
    "@enforce_authentication        \n",
    "def display_profile_page(user):\n",
    "    print('Profile:', user.name)"
   ]
  },
  {
   "cell_type": "code",
   "execution_count": 5,
   "metadata": {},
   "outputs": [
    {
     "name": "stdout",
     "output_type": "stream",
     "text": [
      "must login\n",
      "Profile: nina\n"
     ]
    }
   ],
   "source": [
    "user = User('nina')\n",
    "display_profile_page(user)"
   ]
  },
  {
   "cell_type": "code",
   "execution_count": null,
   "metadata": {},
   "outputs": [],
   "source": []
  }
 ],
 "metadata": {
  "kernelspec": {
   "display_name": "Python 3",
   "language": "python",
   "name": "python3"
  },
  "language_info": {
   "codemirror_mode": {
    "name": "ipython",
    "version": 3
   },
   "file_extension": ".py",
   "mimetype": "text/x-python",
   "name": "python",
   "nbconvert_exporter": "python",
   "pygments_lexer": "ipython3",
   "version": "3.7.4"
  }
 },
 "nbformat": 4,
 "nbformat_minor": 2
}
