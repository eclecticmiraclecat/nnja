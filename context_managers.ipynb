{
 "cells": [
  {
   "cell_type": "markdown",
   "metadata": {},
   "source": [
    "when to use, perform an action \n",
    "1. before and/or after\n",
    "2. open ... close\n",
    "3. lock ... release\n",
    "4. change ... reset\n",
    "5. enter ... exit\n",
    "6. start ... stop"
   ]
  },
  {
   "cell_type": "code",
   "execution_count": 4,
   "metadata": {},
   "outputs": [],
   "source": [
    "class FeatureFlags:\n",
    "    SHOW_BETA = 'Show Beta version of Home Page'\n",
    "    \n",
    "    flags = {\n",
    "        SHOW_BETA: True\n",
    "    }\n",
    "    \n",
    "    @classmethod\n",
    "    def is_on(cls, name):\n",
    "        return cls.flags[name]\n",
    "    \n",
    "    @classmethod\n",
    "    def toggle(cls, name, value):\n",
    "        cls.flags[name] = value"
   ]
  },
  {
   "cell_type": "code",
   "execution_count": 5,
   "metadata": {},
   "outputs": [],
   "source": [
    "feature_flags = FeatureFlags()"
   ]
  },
  {
   "cell_type": "code",
   "execution_count": 6,
   "metadata": {},
   "outputs": [
    {
     "data": {
      "text/plain": [
       "'Show Beta version of Home Page'"
      ]
     },
     "execution_count": 6,
     "metadata": {},
     "output_type": "execute_result"
    }
   ],
   "source": [
    "feature_flags.SHOW_BETA"
   ]
  },
  {
   "cell_type": "code",
   "execution_count": 7,
   "metadata": {},
   "outputs": [],
   "source": [
    "class feature_flag:\n",
    "    \"\"\" Implementing a Context Manager using Magic Methods \"\"\"\n",
    "    \n",
    "    def __init__(self, name, on=True):\n",
    "        self.name = name\n",
    "        self.on = on\n",
    "        self.old_value = feature_flags.is_on(name)\n",
    "        \n",
    "    def __enter__(self):\n",
    "        feature_flags.toggle(self.name, self.on)\n",
    "        \n",
    "    def __exit__(self, *args):\n",
    "        feature_flags.toggle(self.name, self.old_value)"
   ]
  },
  {
   "cell_type": "code",
   "execution_count": 8,
   "metadata": {},
   "outputs": [],
   "source": [
    "#or"
   ]
  },
  {
   "cell_type": "code",
   "execution_count": 9,
   "metadata": {},
   "outputs": [],
   "source": [
    "from contextlib import contextmanager\n",
    "\n",
    "@contextmanager\n",
    "def feature_flag(name, on=True):\n",
    "    old_value = feature_flags.is_on(name)\n",
    "    \n",
    "    # behavior of __enter__()\n",
    "    feature_flags.toggle(name, on)\n",
    "    \n",
    "    yield\n",
    "    \n",
    "    # behaviot of __exit__()\n",
    "    feature_flags.toggle(name, old_value)"
   ]
  },
  {
   "cell_type": "code",
   "execution_count": 12,
   "metadata": {},
   "outputs": [],
   "source": [
    "def get_homepage_url():\n",
    "    if feature_flags.is_on(FeatureFlags.SHOW_BETA):\n",
    "        return '/beta'\n",
    "    else:\n",
    "        return '/homepage'\n",
    "    \n",
    "def test_homepage_url_with_context_manager():\n",
    "    \n",
    "    with feature_flag(FeatureFlags.SHOW_BETA):\n",
    "        assert get_homepage_url() == '/beta'\n",
    "        print('seeing the beta homepage...')\n",
    "        \n",
    "    with feature_flag(FeatureFlags.SHOW_BETA, on=False):\n",
    "        assert get_homepage_url() == '/homepage'\n",
    "        print('seeing the standard homepage')"
   ]
  },
  {
   "cell_type": "code",
   "execution_count": 13,
   "metadata": {},
   "outputs": [
    {
     "name": "stdout",
     "output_type": "stream",
     "text": [
      "seeing the beta homepage...\n",
      "seeing the standard homepage\n"
     ]
    }
   ],
   "source": [
    "test_homepage_url_with_context_manager()"
   ]
  },
  {
   "cell_type": "code",
   "execution_count": null,
   "metadata": {},
   "outputs": [],
   "source": []
  }
 ],
 "metadata": {
  "kernelspec": {
   "display_name": "Python 3",
   "language": "python",
   "name": "python3"
  },
  "language_info": {
   "codemirror_mode": {
    "name": "ipython",
    "version": 3
   },
   "file_extension": ".py",
   "mimetype": "text/x-python",
   "name": "python",
   "nbconvert_exporter": "python",
   "pygments_lexer": "ipython3",
   "version": "3.7.4"
  }
 },
 "nbformat": 4,
 "nbformat_minor": 2
}
